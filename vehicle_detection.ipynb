{
  "nbformat": 4,
  "nbformat_minor": 0,
  "metadata": {
    "colab": {
      "name": "vehicle_detection.ipynb",
      "provenance": [],
      "collapsed_sections": [],
      "machine_shape": "hm",
      "include_colab_link": true
    },
    "kernelspec": {
      "name": "python3",
      "display_name": "Python 3"
    },
    "language_info": {
      "name": "python"
    },
    "accelerator": "GPU"
  },
  "cells": [
    {
      "cell_type": "markdown",
      "metadata": {
        "id": "view-in-github",
        "colab_type": "text"
      },
      "source": [
        "<a href=\"https://colab.research.google.com/github/alfanpahreza/TugasAkhir202/blob/main/vehicle_detection.ipynb\" target=\"_parent\"><img src=\"https://colab.research.google.com/assets/colab-badge.svg\" alt=\"Open In Colab\"/></a>"
      ]
    },
    {
      "cell_type": "markdown",
      "source": [
        "Environment Setup"
      ],
      "metadata": {
        "id": "J1k5cp_B5K7b"
      }
    },
    {
      "cell_type": "code",
      "source": [
        "!pip install tensorflow-gpu==2.3.0"
      ],
      "metadata": {
        "id": "BiGCjY9fx0qm"
      },
      "execution_count": null,
      "outputs": []
    },
    {
      "cell_type": "code",
      "metadata": {
        "id": "KT4nD7OcFDp8"
      },
      "source": [
        "!git clone https://github.com/duongttr/vehicles-counting-yolov4-deepsort.git"
      ],
      "execution_count": null,
      "outputs": []
    },
    {
      "cell_type": "code",
      "metadata": {
        "id": "gO_sI7tC5fGB"
      },
      "source": [
        "%cd vehicles-counting-yolov4-deepsort"
      ],
      "execution_count": null,
      "outputs": []
    },
    {
      "cell_type": "code",
      "metadata": {
        "id": "8fNMpTtyFQLj"
      },
      "source": [
        "!pip install -r requirements-colab.txt"
      ],
      "execution_count": null,
      "outputs": []
    },
    {
      "cell_type": "code",
      "metadata": {
        "id": "aDQ2JrxqHxf-"
      },
      "source": [
        "!gdown 1-0lo7naWZUhTzJ94Yn4flSG7PSGR3ZZn"
      ],
      "execution_count": null,
      "outputs": []
    },
    {
      "cell_type": "markdown",
      "metadata": {
        "id": "cVwR6Rp05kWP"
      },
      "source": [
        "# Convert YOLOv4 model to Keras"
      ]
    },
    {
      "cell_type": "code",
      "metadata": {
        "id": "v8-92n39H5Bc"
      },
      "source": [
        "!python save_model.py --weights ./yolov4_final.weights --output ./checkpoints/yolov4-416 --model yolov4"
      ],
      "execution_count": null,
      "outputs": []
    },
    {
      "cell_type": "markdown",
      "metadata": {
        "id": "Bek0W70P5s1b"
      },
      "source": [
        "# Starting counting"
      ]
    },
    {
      "cell_type": "code",
      "metadata": {
        "id": "zrxtjXt-YSSW"
      },
      "source": [
        "from object_tracker import VehiclesCounting\n",
        "import cv2"
      ],
      "execution_count": null,
      "outputs": []
    },
    {
      "cell_type": "code",
      "metadata": {
        "id": "Oiw-wzcIYkXk"
      },
      "source": [
        "video = 'data/videos/cam1.mp4' # Video's path\n",
        "log_filename = 'Camera 1' # log_filename\n",
        "line_position = 0.7 # location of line caculated by height of image\n",
        "line_angle = 0\n",
        "\n",
        "# initialize\n",
        "VC = VehiclesCounting(log_filename, video=video, info=True,\n",
        "                      dont_show=True,\n",
        "                      output='./result.mp4',\n",
        "                      detection_line=(line_position, line_angle))"
      ],
      "execution_count": null,
      "outputs": []
    },
    {
      "cell_type": "code",
      "metadata": {
        "id": "igLqL_1dXO_q"
      },
      "source": [
        "# render video\n",
        "VC.run()"
      ],
      "execution_count": null,
      "outputs": []
    }
  ]
}